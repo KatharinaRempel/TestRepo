{
 "cells": [
  {
   "cell_type": "markdown",
   "id": "703d41a7-432c-4189-aec4-61c93717ea6a",
   "metadata": {},
   "source": [
    "# Data Science Tools and Ecosystem"
   ]
  },
  {
   "cell_type": "markdown",
   "id": "1686e2ff-f503-4215-9d12-6a4f7e551598",
   "metadata": {},
   "source": [
    "**Objectives:**\n",
    "* List popular languages for Data Science\n",
    "* List commonly used libraries used by Data Scientists\n",
    "* List data science tools\n",
    "* Write arithmetic expressions in Python"
   ]
  },
  {
   "cell_type": "markdown",
   "id": "9753aca1-f0a6-41b7-ba1c-f00a2409cd75",
   "metadata": {},
   "source": [
    "In this notebook, Data Science Tools and Ecosystem are summarized."
   ]
  },
  {
   "cell_type": "markdown",
   "id": "83e15d5f-27c7-4137-a10e-683a3d4cc262",
   "metadata": {},
   "source": [
    "Some of the popular languages that Data Scientists use are:\n",
    "1. Python (most widely used)\n",
    "2. R (for statistics / visualization)\n",
    "3. SQL (for data bases)"
   ]
  },
  {
   "cell_type": "markdown",
   "id": "9be8b82a-80e6-4c75-b5f4-d3d13e3ab31d",
   "metadata": {},
   "source": [
    "Some of the commonly used libraries used by Data Scientists include:\n",
    "1. Pandas and NumPy for Data Manipulation and Processing\n",
    "2. Matplotlib for Visualization\n",
    "3. Scikit-learn for machine learning\n",
    "4. Tensorflow for Deep Learning"
   ]
  },
  {
   "cell_type": "markdown",
   "id": "1b010392-198b-4b34-80c0-4c9e6d96cd93",
   "metadata": {},
   "source": [
    "|Data Science Tools|\n",
    "| - |\n",
    "| Jupyter IDE|\n",
    "| RStudio|\n",
    "| Spyder|"
   ]
  },
  {
   "cell_type": "markdown",
   "id": "5a04dc4f-48d1-4f2d-8cbd-5fea036710da",
   "metadata": {},
   "source": [
    "### Below are a few examples of evaluating arithmetic expressions in Python"
   ]
  },
  {
   "cell_type": "code",
   "execution_count": 1,
   "id": "dd306d14-9ba1-43cf-ac3d-b85b41e84fdf",
   "metadata": {},
   "outputs": [
    {
     "data": {
      "text/plain": [
       "17"
      ]
     },
     "execution_count": 1,
     "metadata": {},
     "output_type": "execute_result"
    }
   ],
   "source": [
    "# This a simple arithmetic expression to mutiply then add integers\n",
    "(3*4)+5"
   ]
  },
  {
   "cell_type": "code",
   "execution_count": 5,
   "id": "5f731542-d2d0-485b-ab69-3cda0c55158d",
   "metadata": {},
   "outputs": [
    {
     "name": "stdout",
     "output_type": "stream",
     "text": [
      "200 minutes are  3.3333333333333335  hours\n"
     ]
    }
   ],
   "source": [
    "# This will convert 200 minutes to hours by diving by 60\n",
    "print (\"200 minutes are \", 200/60, \" hours\") "
   ]
  },
  {
   "cell_type": "markdown",
   "id": "c160776d-c405-4670-badf-9699c9599db7",
   "metadata": {},
   "source": [
    "## Author\n",
    "Katharina Rempel"
   ]
  }
 ],
 "metadata": {
  "kernelspec": {
   "display_name": "Python 3 (ipykernel)",
   "language": "python",
   "name": "python3"
  },
  "language_info": {
   "codemirror_mode": {
    "name": "ipython",
    "version": 3
   },
   "file_extension": ".py",
   "mimetype": "text/x-python",
   "name": "python",
   "nbconvert_exporter": "python",
   "pygments_lexer": "ipython3",
   "version": "3.12.9"
  }
 },
 "nbformat": 4,
 "nbformat_minor": 5
}
